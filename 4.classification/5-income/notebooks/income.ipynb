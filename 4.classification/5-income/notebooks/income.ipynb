{
 "cells": [
  {
   "cell_type": "markdown",
   "id": "d333515a",
   "metadata": {},
   "source": [
    "<h1 align=center style=\"line-height:200%;font-family:vazir;color:#0099cc\">\n",
    "<font face=\"vazir\" color=\"#0099cc\">\n",
    "درآمد\n",
    "</font>\n",
    "</h1>"
   ]
  },
  {
   "cell_type": "markdown",
   "id": "6ed20bff",
   "metadata": {},
   "source": [
    "<h2 align=right style=\"line-height:200%;font-family:vazir;color:#0099cc\">\n",
    "<font face=\"vazir\" color=\"#0099cc\">\n",
    "مقدمه و صورت مسئله\n",
    "</font>\n",
    "</h2>\n",
    "\n",
    "<p dir=rtl style=\"direction: rtl; text-align: justify; line-height:200%; font-family:vazir; font-size:medium\">\n",
    "<font face=\"vazir\" size=3>\n",
    "    در این تمرین قصد داریم درخت تصمیمی بسازیم که قادر باشد با دریافت یک سری ویژگی‌های شخصی و شغلی از شهروندان آمریکایی پیش‌بینی کند آیا شخص درآمد سالانه‌ی بالای ۵۰ هزار دلار خواهد داشت یا خیر. مجموعه‌داده‌ی مورداستفاده و صورت مسئله بسیار خوش‌تعریف است، با این حال جهت پیش‌پردازش مناسب ویژگی‌ها و همچنین دست‌یابی به یک مدل  با عملکرد بالا نیاز است از تکنیک‌های مختلف مهندسی ویژگی و فوت‌و‌فن‌های مرتبط با درخت تصمیم که در درسنامه‌ها آموخته‌اید استفاده کنید. بهره‌گیری از این تکنیک‌ها جهت مواجهه با چالش‌های عملی می‌تواند به‌خوبی شما را برای استفاده از این مدل در دنیای واقعی آماده کند.‌\n",
    "</font>\n",
    "</p>"
   ]
  },
  {
   "cell_type": "markdown",
   "id": "c5af1784",
   "metadata": {},
   "source": [
    "<h2 align=right style=\"line-height:200%;font-family:vazir;color:#0099cc\">\n",
    "<font face=\"vazir\" color=\"#0099cc\">\n",
    "وارد کردن کتابخانه‌های مورد نیاز\n",
    "</font>\n",
    "</h2>\n",
    "\n",
    "<p dir=rtl style=\"direction: rtl; text-align: justify; line-height:200%; font-family:vazir; font-size:medium\">\n",
    "<font face=\"vazir\" size=3>\n",
    "    ابتدا کتابخانه‌های مورد نیازتان را وارد کنید.\n",
    "</font>\n",
    "</p>"
   ]
  },
  {
   "cell_type": "code",
   "execution_count": 38,
   "id": "99450f9e",
   "metadata": {},
   "outputs": [],
   "source": [
    "import numpy as np\n",
    "import pandas as pd\n",
    "import h2o"
   ]
  },
  {
   "attachments": {},
   "cell_type": "markdown",
   "id": "72faaed8",
   "metadata": {},
   "source": [
    "<h2 align=right style=\"line-height:200%;font-family:vazir;color:#0099cc\">\n",
    "<font face=\"vazir\" color=\"#0099cc\">\n",
    "معرفی مجموعه‌داده\n",
    "</font>\n",
    "</h2>\n",
    "\n",
    "<p dir=rtl style=\"direction: rtl; text-align: justify; line-height:200%; font-family:vazir; font-size:medium\">\n",
    "<font face=\"vazir\" size=3>\n",
    "    هر نمونه از این مجموعه‌داده با ویژگی‌هایی که در جدول زیر شرح داده شده همراه است. ستون <code>income</code> متغیر هدف مسئله است که درآمد شخص را نشان می‌دهد. \n",
    "</font>\n",
    "</p>\n",
    "<center>\n",
    "<div dir=rtl style=\"direction: rtl;line-height:200%;font-family:vazir;font-size:medium\">\n",
    "<font face=\"vazir\" size=3>\n",
    "    \n",
    "|ستون|توضیحات|\n",
    "|:------:|:---:|\n",
    "|age|سن|\n",
    "|workclass|یک عبارت کلی که نشان‌دهنده‌ی وضعیت شغلی فرد است.|\n",
    "|fnlwgt|وزن نهایی، به عبارت دیگر تعداد افرادی که سرشماری باور دارد این ردیف بازنمایی می‌کند (نماینده‌ی آنهاست). |\n",
    "|education|بیشترین سطح تحصیلات فرد |\n",
    "|education.num|بیشترین سطح تحصیلات فرد به شکل عددی |\n",
    "|marital.status|وضعیت تاهل فرد. توجه شود که <code>Married-­civ-­spouse</code> به معنی همسر غیرنظامی و <code>Married-­AF-­spouse</code> به معنی همسر نظامی است.|\n",
    "|occupation|نوع کلی شغل یک فرد |\n",
    "|relationship|رابطه‌ی این فرد با دیگران، به عنوان مثال همسر (<code>Husband</code>). هر داده تنها دارای یک رابطه است. |\n",
    "|race|نژاد |\n",
    "|sex| جنسیت بیولوژیکی فرد |\n",
    "|capital.gain|سود سرمایه‌ی فرد  |\n",
    "|capital.loss| زیان سرمایه‌ی فرد |\n",
    "|hours.per.week| ساعت‌هایی که فرد گزارش داده در یک هفته کار می‌کند. |\n",
    "|native.country| سرزمین مادری |\n",
    "|income|درآمد، کمتر یا مساوی ۵۰ هزار دلار (<code dir=ltr><=50K</code>) یا بیشتر از آن (<code dir=ltr>>50K</code>) |\n",
    "\n",
    "</font>\n",
    "</div>\n",
    "</center>"
   ]
  },
  {
   "attachments": {},
   "cell_type": "markdown",
   "id": "e99bbe9b",
   "metadata": {},
   "source": [
    "<h2 align=right style=\"line-height:200%;font-family:vazir;color:#0099cc\">\n",
    "<font face=\"vazir\" color=\"#0099cc\">\n",
    "خواندن مجموعه‌داده\n",
    "</font>\n",
    "</h2>\n",
    "\n",
    "<p dir=rtl style=\"direction: rtl; text-align: justify; line-height:200%; font-family:vazir; font-size:medium\">\n",
    "<font face=\"vazir\" size=3>\n",
    "    در ابتدا نیاز است فایل‌های مجموعه‌داده را بخوانید. نمونه‌های آموزشی در فایل <code>train.csv</code> و نمونه‌های آزمون که باید دسته‌ی آن‌ها را پیش‌بینی کنید در فایل <code>test.csv</code> ذخیره شده‌اند. اگر لازم دانستید می‌توانید به دلخواه خود بخشی از مجموعه‌ی آموزشی را به عنوان مجموعه‌ی اعتبارسنجی نیز جدا کنید.\n",
    "</font>\n",
    "</p>"
   ]
  },
  {
   "cell_type": "code",
   "execution_count": 33,
   "id": "7dcb9e87",
   "metadata": {},
   "outputs": [
    {
     "data": {
      "text/html": [
       "<div>\n",
       "<style scoped>\n",
       "    .dataframe tbody tr th:only-of-type {\n",
       "        vertical-align: middle;\n",
       "    }\n",
       "\n",
       "    .dataframe tbody tr th {\n",
       "        vertical-align: top;\n",
       "    }\n",
       "\n",
       "    .dataframe thead th {\n",
       "        text-align: right;\n",
       "    }\n",
       "</style>\n",
       "<table border=\"1\" class=\"dataframe\">\n",
       "  <thead>\n",
       "    <tr style=\"text-align: right;\">\n",
       "      <th></th>\n",
       "      <th>age</th>\n",
       "      <th>workclass</th>\n",
       "      <th>fnlwgt</th>\n",
       "      <th>education</th>\n",
       "      <th>education.num</th>\n",
       "      <th>marital.status</th>\n",
       "      <th>occupation</th>\n",
       "      <th>relationship</th>\n",
       "      <th>race</th>\n",
       "      <th>sex</th>\n",
       "      <th>capital.gain</th>\n",
       "      <th>capital.loss</th>\n",
       "      <th>hours.per.week</th>\n",
       "      <th>native.country</th>\n",
       "      <th>income</th>\n",
       "    </tr>\n",
       "  </thead>\n",
       "  <tbody>\n",
       "    <tr>\n",
       "      <th>0</th>\n",
       "      <td>40</td>\n",
       "      <td>Self-emp-not-inc</td>\n",
       "      <td>223881</td>\n",
       "      <td>Prof-school</td>\n",
       "      <td>15</td>\n",
       "      <td>Married-civ-spouse</td>\n",
       "      <td>Prof-specialty</td>\n",
       "      <td>Husband</td>\n",
       "      <td>White</td>\n",
       "      <td>Male</td>\n",
       "      <td>99999</td>\n",
       "      <td>0</td>\n",
       "      <td>70</td>\n",
       "      <td>United-States</td>\n",
       "      <td>&gt;50K</td>\n",
       "    </tr>\n",
       "    <tr>\n",
       "      <th>1</th>\n",
       "      <td>30</td>\n",
       "      <td>Private</td>\n",
       "      <td>149118</td>\n",
       "      <td>HS-grad</td>\n",
       "      <td>9</td>\n",
       "      <td>Divorced</td>\n",
       "      <td>Craft-repair</td>\n",
       "      <td>Not-in-family</td>\n",
       "      <td>White</td>\n",
       "      <td>Female</td>\n",
       "      <td>0</td>\n",
       "      <td>0</td>\n",
       "      <td>40</td>\n",
       "      <td>United-States</td>\n",
       "      <td>&lt;=50K</td>\n",
       "    </tr>\n",
       "    <tr>\n",
       "      <th>2</th>\n",
       "      <td>46</td>\n",
       "      <td>Private</td>\n",
       "      <td>109209</td>\n",
       "      <td>Some-college</td>\n",
       "      <td>10</td>\n",
       "      <td>Married-civ-spouse</td>\n",
       "      <td>Adm-clerical</td>\n",
       "      <td>Husband</td>\n",
       "      <td>White</td>\n",
       "      <td>Male</td>\n",
       "      <td>0</td>\n",
       "      <td>0</td>\n",
       "      <td>40</td>\n",
       "      <td>United-States</td>\n",
       "      <td>&gt;50K</td>\n",
       "    </tr>\n",
       "    <tr>\n",
       "      <th>3</th>\n",
       "      <td>32</td>\n",
       "      <td>Private</td>\n",
       "      <td>229566</td>\n",
       "      <td>Assoc-voc</td>\n",
       "      <td>11</td>\n",
       "      <td>Married-civ-spouse</td>\n",
       "      <td>Other-service</td>\n",
       "      <td>Husband</td>\n",
       "      <td>White</td>\n",
       "      <td>Male</td>\n",
       "      <td>0</td>\n",
       "      <td>0</td>\n",
       "      <td>60</td>\n",
       "      <td>United-States</td>\n",
       "      <td>&gt;50K</td>\n",
       "    </tr>\n",
       "    <tr>\n",
       "      <th>4</th>\n",
       "      <td>54</td>\n",
       "      <td>?</td>\n",
       "      <td>148657</td>\n",
       "      <td>Preschool</td>\n",
       "      <td>1</td>\n",
       "      <td>Married-civ-spouse</td>\n",
       "      <td>?</td>\n",
       "      <td>Wife</td>\n",
       "      <td>White</td>\n",
       "      <td>Female</td>\n",
       "      <td>0</td>\n",
       "      <td>0</td>\n",
       "      <td>40</td>\n",
       "      <td>Mexico</td>\n",
       "      <td>&lt;=50K</td>\n",
       "    </tr>\n",
       "    <tr>\n",
       "      <th>...</th>\n",
       "      <td>...</td>\n",
       "      <td>...</td>\n",
       "      <td>...</td>\n",
       "      <td>...</td>\n",
       "      <td>...</td>\n",
       "      <td>...</td>\n",
       "      <td>...</td>\n",
       "      <td>...</td>\n",
       "      <td>...</td>\n",
       "      <td>...</td>\n",
       "      <td>...</td>\n",
       "      <td>...</td>\n",
       "      <td>...</td>\n",
       "      <td>...</td>\n",
       "      <td>...</td>\n",
       "    </tr>\n",
       "    <tr>\n",
       "      <th>24995</th>\n",
       "      <td>40</td>\n",
       "      <td>Private</td>\n",
       "      <td>130834</td>\n",
       "      <td>Some-college</td>\n",
       "      <td>10</td>\n",
       "      <td>Never-married</td>\n",
       "      <td>Adm-clerical</td>\n",
       "      <td>Not-in-family</td>\n",
       "      <td>White</td>\n",
       "      <td>Female</td>\n",
       "      <td>0</td>\n",
       "      <td>0</td>\n",
       "      <td>40</td>\n",
       "      <td>United-States</td>\n",
       "      <td>&lt;=50K</td>\n",
       "    </tr>\n",
       "    <tr>\n",
       "      <th>24996</th>\n",
       "      <td>31</td>\n",
       "      <td>Local-gov</td>\n",
       "      <td>33124</td>\n",
       "      <td>Bachelors</td>\n",
       "      <td>13</td>\n",
       "      <td>Never-married</td>\n",
       "      <td>Prof-specialty</td>\n",
       "      <td>Not-in-family</td>\n",
       "      <td>White</td>\n",
       "      <td>Female</td>\n",
       "      <td>0</td>\n",
       "      <td>0</td>\n",
       "      <td>50</td>\n",
       "      <td>United-States</td>\n",
       "      <td>&lt;=50K</td>\n",
       "    </tr>\n",
       "    <tr>\n",
       "      <th>24997</th>\n",
       "      <td>38</td>\n",
       "      <td>Federal-gov</td>\n",
       "      <td>190895</td>\n",
       "      <td>Bachelors</td>\n",
       "      <td>13</td>\n",
       "      <td>Married-civ-spouse</td>\n",
       "      <td>Prof-specialty</td>\n",
       "      <td>Husband</td>\n",
       "      <td>White</td>\n",
       "      <td>Male</td>\n",
       "      <td>0</td>\n",
       "      <td>0</td>\n",
       "      <td>40</td>\n",
       "      <td>?</td>\n",
       "      <td>&gt;50K</td>\n",
       "    </tr>\n",
       "    <tr>\n",
       "      <th>24998</th>\n",
       "      <td>23</td>\n",
       "      <td>Private</td>\n",
       "      <td>420973</td>\n",
       "      <td>Bachelors</td>\n",
       "      <td>13</td>\n",
       "      <td>Never-married</td>\n",
       "      <td>Prof-specialty</td>\n",
       "      <td>Not-in-family</td>\n",
       "      <td>White</td>\n",
       "      <td>Female</td>\n",
       "      <td>0</td>\n",
       "      <td>0</td>\n",
       "      <td>40</td>\n",
       "      <td>United-States</td>\n",
       "      <td>&lt;=50K</td>\n",
       "    </tr>\n",
       "    <tr>\n",
       "      <th>24999</th>\n",
       "      <td>60</td>\n",
       "      <td>Private</td>\n",
       "      <td>88055</td>\n",
       "      <td>10th</td>\n",
       "      <td>6</td>\n",
       "      <td>Married-civ-spouse</td>\n",
       "      <td>Transport-moving</td>\n",
       "      <td>Husband</td>\n",
       "      <td>White</td>\n",
       "      <td>Male</td>\n",
       "      <td>0</td>\n",
       "      <td>0</td>\n",
       "      <td>40</td>\n",
       "      <td>United-States</td>\n",
       "      <td>&lt;=50K</td>\n",
       "    </tr>\n",
       "  </tbody>\n",
       "</table>\n",
       "<p>25000 rows × 15 columns</p>\n",
       "</div>"
      ],
      "text/plain": [
       "       age         workclass  fnlwgt     education  education.num  \\\n",
       "0       40  Self-emp-not-inc  223881   Prof-school             15   \n",
       "1       30           Private  149118       HS-grad              9   \n",
       "2       46           Private  109209  Some-college             10   \n",
       "3       32           Private  229566     Assoc-voc             11   \n",
       "4       54                 ?  148657     Preschool              1   \n",
       "...    ...               ...     ...           ...            ...   \n",
       "24995   40           Private  130834  Some-college             10   \n",
       "24996   31         Local-gov   33124     Bachelors             13   \n",
       "24997   38       Federal-gov  190895     Bachelors             13   \n",
       "24998   23           Private  420973     Bachelors             13   \n",
       "24999   60           Private   88055          10th              6   \n",
       "\n",
       "           marital.status        occupation   relationship   race     sex  \\\n",
       "0      Married-civ-spouse    Prof-specialty        Husband  White    Male   \n",
       "1                Divorced      Craft-repair  Not-in-family  White  Female   \n",
       "2      Married-civ-spouse      Adm-clerical        Husband  White    Male   \n",
       "3      Married-civ-spouse     Other-service        Husband  White    Male   \n",
       "4      Married-civ-spouse                 ?           Wife  White  Female   \n",
       "...                   ...               ...            ...    ...     ...   \n",
       "24995       Never-married      Adm-clerical  Not-in-family  White  Female   \n",
       "24996       Never-married    Prof-specialty  Not-in-family  White  Female   \n",
       "24997  Married-civ-spouse    Prof-specialty        Husband  White    Male   \n",
       "24998       Never-married    Prof-specialty  Not-in-family  White  Female   \n",
       "24999  Married-civ-spouse  Transport-moving        Husband  White    Male   \n",
       "\n",
       "       capital.gain  capital.loss  hours.per.week native.country income  \n",
       "0             99999             0              70  United-States   >50K  \n",
       "1                 0             0              40  United-States  <=50K  \n",
       "2                 0             0              40  United-States   >50K  \n",
       "3                 0             0              60  United-States   >50K  \n",
       "4                 0             0              40         Mexico  <=50K  \n",
       "...             ...           ...             ...            ...    ...  \n",
       "24995             0             0              40  United-States  <=50K  \n",
       "24996             0             0              50  United-States  <=50K  \n",
       "24997             0             0              40              ?   >50K  \n",
       "24998             0             0              40  United-States  <=50K  \n",
       "24999             0             0              40  United-States  <=50K  \n",
       "\n",
       "[25000 rows x 15 columns]"
      ]
     },
     "execution_count": 33,
     "metadata": {},
     "output_type": "execute_result"
    }
   ],
   "source": [
    "train_data = pd.read_csv('../data/train.csv')\n",
    "train_data"
   ]
  },
  {
   "cell_type": "code",
   "execution_count": 34,
   "id": "adb6ba5a",
   "metadata": {},
   "outputs": [
    {
     "data": {
      "text/html": [
       "<div>\n",
       "<style scoped>\n",
       "    .dataframe tbody tr th:only-of-type {\n",
       "        vertical-align: middle;\n",
       "    }\n",
       "\n",
       "    .dataframe tbody tr th {\n",
       "        vertical-align: top;\n",
       "    }\n",
       "\n",
       "    .dataframe thead th {\n",
       "        text-align: right;\n",
       "    }\n",
       "</style>\n",
       "<table border=\"1\" class=\"dataframe\">\n",
       "  <thead>\n",
       "    <tr style=\"text-align: right;\">\n",
       "      <th></th>\n",
       "      <th>age</th>\n",
       "      <th>workclass</th>\n",
       "      <th>fnlwgt</th>\n",
       "      <th>education</th>\n",
       "      <th>education.num</th>\n",
       "      <th>marital.status</th>\n",
       "      <th>occupation</th>\n",
       "      <th>relationship</th>\n",
       "      <th>race</th>\n",
       "      <th>sex</th>\n",
       "      <th>capital.gain</th>\n",
       "      <th>capital.loss</th>\n",
       "      <th>hours.per.week</th>\n",
       "      <th>native.country</th>\n",
       "    </tr>\n",
       "  </thead>\n",
       "  <tbody>\n",
       "    <tr>\n",
       "      <th>0</th>\n",
       "      <td>31</td>\n",
       "      <td>Private</td>\n",
       "      <td>176711</td>\n",
       "      <td>HS-grad</td>\n",
       "      <td>9</td>\n",
       "      <td>Married-civ-spouse</td>\n",
       "      <td>Transport-moving</td>\n",
       "      <td>Husband</td>\n",
       "      <td>White</td>\n",
       "      <td>Male</td>\n",
       "      <td>0</td>\n",
       "      <td>0</td>\n",
       "      <td>38</td>\n",
       "      <td>United-States</td>\n",
       "    </tr>\n",
       "    <tr>\n",
       "      <th>1</th>\n",
       "      <td>40</td>\n",
       "      <td>Private</td>\n",
       "      <td>120277</td>\n",
       "      <td>Some-college</td>\n",
       "      <td>10</td>\n",
       "      <td>Never-married</td>\n",
       "      <td>Sales</td>\n",
       "      <td>Not-in-family</td>\n",
       "      <td>White</td>\n",
       "      <td>Male</td>\n",
       "      <td>0</td>\n",
       "      <td>0</td>\n",
       "      <td>40</td>\n",
       "      <td>United-States</td>\n",
       "    </tr>\n",
       "    <tr>\n",
       "      <th>2</th>\n",
       "      <td>43</td>\n",
       "      <td>Private</td>\n",
       "      <td>299197</td>\n",
       "      <td>Some-college</td>\n",
       "      <td>10</td>\n",
       "      <td>Married-civ-spouse</td>\n",
       "      <td>Adm-clerical</td>\n",
       "      <td>Husband</td>\n",
       "      <td>White</td>\n",
       "      <td>Male</td>\n",
       "      <td>0</td>\n",
       "      <td>0</td>\n",
       "      <td>40</td>\n",
       "      <td>United-States</td>\n",
       "    </tr>\n",
       "    <tr>\n",
       "      <th>3</th>\n",
       "      <td>70</td>\n",
       "      <td>Self-emp-inc</td>\n",
       "      <td>188260</td>\n",
       "      <td>HS-grad</td>\n",
       "      <td>9</td>\n",
       "      <td>Married-civ-spouse</td>\n",
       "      <td>Exec-managerial</td>\n",
       "      <td>Husband</td>\n",
       "      <td>White</td>\n",
       "      <td>Male</td>\n",
       "      <td>0</td>\n",
       "      <td>0</td>\n",
       "      <td>16</td>\n",
       "      <td>United-States</td>\n",
       "    </tr>\n",
       "    <tr>\n",
       "      <th>4</th>\n",
       "      <td>51</td>\n",
       "      <td>Private</td>\n",
       "      <td>254211</td>\n",
       "      <td>Bachelors</td>\n",
       "      <td>13</td>\n",
       "      <td>Married-civ-spouse</td>\n",
       "      <td>Craft-repair</td>\n",
       "      <td>Husband</td>\n",
       "      <td>White</td>\n",
       "      <td>Male</td>\n",
       "      <td>0</td>\n",
       "      <td>0</td>\n",
       "      <td>20</td>\n",
       "      <td>United-States</td>\n",
       "    </tr>\n",
       "    <tr>\n",
       "      <th>...</th>\n",
       "      <td>...</td>\n",
       "      <td>...</td>\n",
       "      <td>...</td>\n",
       "      <td>...</td>\n",
       "      <td>...</td>\n",
       "      <td>...</td>\n",
       "      <td>...</td>\n",
       "      <td>...</td>\n",
       "      <td>...</td>\n",
       "      <td>...</td>\n",
       "      <td>...</td>\n",
       "      <td>...</td>\n",
       "      <td>...</td>\n",
       "      <td>...</td>\n",
       "    </tr>\n",
       "    <tr>\n",
       "      <th>7159</th>\n",
       "      <td>37</td>\n",
       "      <td>Self-emp-not-inc</td>\n",
       "      <td>75050</td>\n",
       "      <td>Assoc-voc</td>\n",
       "      <td>11</td>\n",
       "      <td>Married-civ-spouse</td>\n",
       "      <td>Craft-repair</td>\n",
       "      <td>Husband</td>\n",
       "      <td>White</td>\n",
       "      <td>Male</td>\n",
       "      <td>0</td>\n",
       "      <td>0</td>\n",
       "      <td>55</td>\n",
       "      <td>United-States</td>\n",
       "    </tr>\n",
       "    <tr>\n",
       "      <th>7160</th>\n",
       "      <td>36</td>\n",
       "      <td>Private</td>\n",
       "      <td>156780</td>\n",
       "      <td>HS-grad</td>\n",
       "      <td>9</td>\n",
       "      <td>Never-married</td>\n",
       "      <td>Sales</td>\n",
       "      <td>Other-relative</td>\n",
       "      <td>Asian-Pac-Islander</td>\n",
       "      <td>Female</td>\n",
       "      <td>0</td>\n",
       "      <td>0</td>\n",
       "      <td>40</td>\n",
       "      <td>?</td>\n",
       "    </tr>\n",
       "    <tr>\n",
       "      <th>7161</th>\n",
       "      <td>34</td>\n",
       "      <td>Private</td>\n",
       "      <td>381153</td>\n",
       "      <td>HS-grad</td>\n",
       "      <td>9</td>\n",
       "      <td>Married-civ-spouse</td>\n",
       "      <td>Transport-moving</td>\n",
       "      <td>Husband</td>\n",
       "      <td>White</td>\n",
       "      <td>Male</td>\n",
       "      <td>0</td>\n",
       "      <td>0</td>\n",
       "      <td>40</td>\n",
       "      <td>United-States</td>\n",
       "    </tr>\n",
       "    <tr>\n",
       "      <th>7162</th>\n",
       "      <td>59</td>\n",
       "      <td>Private</td>\n",
       "      <td>294395</td>\n",
       "      <td>Masters</td>\n",
       "      <td>14</td>\n",
       "      <td>Widowed</td>\n",
       "      <td>Prof-specialty</td>\n",
       "      <td>Not-in-family</td>\n",
       "      <td>White</td>\n",
       "      <td>Female</td>\n",
       "      <td>0</td>\n",
       "      <td>0</td>\n",
       "      <td>40</td>\n",
       "      <td>United-States</td>\n",
       "    </tr>\n",
       "    <tr>\n",
       "      <th>7163</th>\n",
       "      <td>24</td>\n",
       "      <td>State-gov</td>\n",
       "      <td>506329</td>\n",
       "      <td>Some-college</td>\n",
       "      <td>10</td>\n",
       "      <td>Never-married</td>\n",
       "      <td>Adm-clerical</td>\n",
       "      <td>Own-child</td>\n",
       "      <td>Asian-Pac-Islander</td>\n",
       "      <td>Male</td>\n",
       "      <td>0</td>\n",
       "      <td>0</td>\n",
       "      <td>40</td>\n",
       "      <td>?</td>\n",
       "    </tr>\n",
       "  </tbody>\n",
       "</table>\n",
       "<p>7164 rows × 14 columns</p>\n",
       "</div>"
      ],
      "text/plain": [
       "      age         workclass  fnlwgt     education  education.num  \\\n",
       "0      31           Private  176711       HS-grad              9   \n",
       "1      40           Private  120277  Some-college             10   \n",
       "2      43           Private  299197  Some-college             10   \n",
       "3      70      Self-emp-inc  188260       HS-grad              9   \n",
       "4      51           Private  254211     Bachelors             13   \n",
       "...   ...               ...     ...           ...            ...   \n",
       "7159   37  Self-emp-not-inc   75050     Assoc-voc             11   \n",
       "7160   36           Private  156780       HS-grad              9   \n",
       "7161   34           Private  381153       HS-grad              9   \n",
       "7162   59           Private  294395       Masters             14   \n",
       "7163   24         State-gov  506329  Some-college             10   \n",
       "\n",
       "          marital.status        occupation    relationship  \\\n",
       "0     Married-civ-spouse  Transport-moving         Husband   \n",
       "1          Never-married             Sales   Not-in-family   \n",
       "2     Married-civ-spouse      Adm-clerical         Husband   \n",
       "3     Married-civ-spouse   Exec-managerial         Husband   \n",
       "4     Married-civ-spouse      Craft-repair         Husband   \n",
       "...                  ...               ...             ...   \n",
       "7159  Married-civ-spouse      Craft-repair         Husband   \n",
       "7160       Never-married             Sales  Other-relative   \n",
       "7161  Married-civ-spouse  Transport-moving         Husband   \n",
       "7162             Widowed    Prof-specialty   Not-in-family   \n",
       "7163       Never-married      Adm-clerical       Own-child   \n",
       "\n",
       "                    race     sex  capital.gain  capital.loss  hours.per.week  \\\n",
       "0                  White    Male             0             0              38   \n",
       "1                  White    Male             0             0              40   \n",
       "2                  White    Male             0             0              40   \n",
       "3                  White    Male             0             0              16   \n",
       "4                  White    Male             0             0              20   \n",
       "...                  ...     ...           ...           ...             ...   \n",
       "7159               White    Male             0             0              55   \n",
       "7160  Asian-Pac-Islander  Female             0             0              40   \n",
       "7161               White    Male             0             0              40   \n",
       "7162               White  Female             0             0              40   \n",
       "7163  Asian-Pac-Islander    Male             0             0              40   \n",
       "\n",
       "     native.country  \n",
       "0     United-States  \n",
       "1     United-States  \n",
       "2     United-States  \n",
       "3     United-States  \n",
       "4     United-States  \n",
       "...             ...  \n",
       "7159  United-States  \n",
       "7160              ?  \n",
       "7161  United-States  \n",
       "7162  United-States  \n",
       "7163              ?  \n",
       "\n",
       "[7164 rows x 14 columns]"
      ]
     },
     "execution_count": 34,
     "metadata": {},
     "output_type": "execute_result"
    }
   ],
   "source": [
    "test_data = pd.read_csv('../data/test.csv')\n",
    "test_data"
   ]
  },
  {
   "cell_type": "markdown",
   "id": "23daec54",
   "metadata": {},
   "source": [
    "<h2 align=right style=\"line-height:200%;font-family:vazir;color:#0099cc\">\n",
    "<font face=\"vazir\" color=\"#0099cc\">\n",
    "پیش‌پردازش و مهندسی ویژگی\n",
    "</font>\n",
    "</h2>\n",
    "\n",
    "<p dir=rtl style=\"direction: rtl; text-align: justify; line-height:200%; font-family:vazir; font-size:medium\">\n",
    "<font face=\"vazir\" size=3>\n",
    "    در این سوال شما می‌توانید از هر تکنیک پیش‌پردازش/مهندسی ویژگی که در فصل‌های گذشته آموختید، استفاده کنید. توجه داشته باشید که انتخاب شما در بخش بعدی یعنی مدل‌سازی می‌تواند مراحلی که در این بخش طی می‌کنید را تحت تاثیر قرار دهد. بنابراین پیشنهاد می‌کنیم مواردی همچون مدیریت مقادیر گم‌شده، ویژگی‌های دسته‌ای و غیره را پس از مطالعه‌ی بخش بعد انجام دهید.\n",
    "    <br>\n",
    "    تکنیک‌هایی که در این بخش استفاده می‌کنید به شکل مستقیم مورد ارزیابی توسط سامانه داوری قرار <b>نمی‌گیرند.</b> بلکه همه آن‌ها در دقت مدل شما تاثیر خواهند گذاشت؛ بنابراین هر چه پیش‌پردازش/مهندسی ویژگی بهتری انجام دهید تا دقت مدل بهبود پیدا کند، امتیاز بیشتری از این سوال کسب خواهید کرد.\n",
    "</font>\n",
    "</p>"
   ]
  },
  {
   "cell_type": "markdown",
   "id": "f5e001f7",
   "metadata": {},
   "source": [
    "<p dir=rtl style=\"direction: rtl; text-align: justify; line-height:200%; font-family:vazir; font-size:medium\">\n",
    "<font face=\"vazir\" size=3>\n",
    "    به جای NaN از '?' در مقادیر گمشده استفاده شده است. پس در ابتدا '?' ها را با NaN جایگزین می‌کنیم سپس مانند گذشته مقادیر گمشده را بررسی می‌کنیم:\n",
    "</font>\n",
    "</p>"
   ]
  },
  {
   "cell_type": "code",
   "execution_count": 35,
   "id": "c74ecc3b",
   "metadata": {},
   "outputs": [
    {
     "name": "stderr",
     "output_type": "stream",
     "text": [
      "/tmp/ipykernel_68266/3984554368.py:4: FutureWarning: The pandas.np module is deprecated and will be removed from pandas in a future version. Import numpy directly instead\n",
      "  x_train.replace('?', pd.np.nan, inplace=True)\n"
     ]
    },
    {
     "data": {
      "text/plain": [
       "age                  0\n",
       "workclass         1429\n",
       "fnlwgt               0\n",
       "education            0\n",
       "education.num        0\n",
       "marital.status       0\n",
       "occupation        1434\n",
       "relationship         0\n",
       "race                 0\n",
       "sex                  0\n",
       "capital.gain         0\n",
       "capital.loss         0\n",
       "hours.per.week       0\n",
       "native.country     437\n",
       "dtype: int64"
      ]
     },
     "execution_count": 35,
     "metadata": {},
     "output_type": "execute_result"
    }
   ],
   "source": [
    "x_train = train_data.drop(columns=['income'], axis=1)\n",
    "y_train = train_data['income']\n",
    "\n",
    "x_train.replace('?', pd.np.nan, inplace=True)\n",
    "x_train.isna().sum()"
   ]
  },
  {
   "cell_type": "code",
   "execution_count": 36,
   "id": "badb8c81",
   "metadata": {},
   "outputs": [
    {
     "name": "stderr",
     "output_type": "stream",
     "text": [
      "/tmp/ipykernel_68266/2095326048.py:1: FutureWarning: The pandas.np module is deprecated and will be removed from pandas in a future version. Import numpy directly instead\n",
      "  y_train.replace('?', pd.np.nan, inplace=True)\n"
     ]
    },
    {
     "data": {
      "text/plain": [
       "0"
      ]
     },
     "execution_count": 36,
     "metadata": {},
     "output_type": "execute_result"
    }
   ],
   "source": [
    "y_train.replace('?', pd.np.nan, inplace=True)\n",
    "y_train.isna().sum()"
   ]
  },
  {
   "cell_type": "code",
   "execution_count": 37,
   "id": "4b653658",
   "metadata": {},
   "outputs": [
    {
     "name": "stderr",
     "output_type": "stream",
     "text": [
      "/tmp/ipykernel_68266/3129154607.py:1: FutureWarning: The pandas.np module is deprecated and will be removed from pandas in a future version. Import numpy directly instead\n",
      "  test_data.replace('?', pd.np.nan, inplace=True)\n"
     ]
    },
    {
     "data": {
      "text/plain": [
       "age                 0\n",
       "workclass         387\n",
       "fnlwgt              0\n",
       "education           0\n",
       "education.num       0\n",
       "marital.status      0\n",
       "occupation        389\n",
       "relationship        0\n",
       "race                0\n",
       "sex                 0\n",
       "capital.gain        0\n",
       "capital.loss        0\n",
       "hours.per.week      0\n",
       "native.country    138\n",
       "dtype: int64"
      ]
     },
     "execution_count": 37,
     "metadata": {},
     "output_type": "execute_result"
    }
   ],
   "source": [
    "test_data.replace('?', pd.np.nan, inplace=True)\n",
    "test_data.isna().sum()"
   ]
  },
  {
   "cell_type": "markdown",
   "id": "39f9759d",
   "metadata": {},
   "source": [
    "<p dir=rtl style=\"direction: rtl; text-align: justify; line-height:200%; font-family:vazir; font-size:medium\">\n",
    "<font face=\"vazir\" size=3>\n",
    "    همانطور که مشاهده می‌شود هم در مجموعه داده تست و هم در مجموعه داده آموزش تعدادی از ستون‌ها مقادیر گمشده دارند که بایستی این مقادیر گمشده را handle کنیم. برای این کار از الگوریتم GBM استفاده می‌کنیم:\n",
    "</font>\n",
    "</p>"
   ]
  },
  {
   "cell_type": "code",
   "execution_count": null,
   "id": "493bae2f",
   "metadata": {},
   "outputs": [],
   "source": [
    "x_hf = h2o.H2OFrame(x_train)\n",
    "y_hf = h2o.H2OFrame(y_train)\n",
    "\n",
    "\n",
    "\n",
    "test_hf = h2o.H2OFrame(test_data)"
   ]
  },
  {
   "cell_type": "code",
   "execution_count": 5,
   "id": "0b2f4f8f",
   "metadata": {},
   "outputs": [
    {
     "name": "stdout",
     "output_type": "stream",
     "text": [
      "Checking whether there is an H2O instance running at http://localhost:54321 ..... not found.\n",
      "Attempting to start a local H2O server...\n",
      "  Java Version: openjdk version \"17.0.8\" 2023-07-18; OpenJDK Runtime Environment (build 17.0.8+7-Ubuntu-123.04); OpenJDK 64-Bit Server VM (build 17.0.8+7-Ubuntu-123.04, mixed mode, sharing)\n",
      "  Starting server from /home/javad/My Folders/Courses/Quera_ML/qenv/lib/python3.11/site-packages/h2o/backend/bin/h2o.jar\n",
      "  Ice root: /tmp/tmpw3uvhu50\n",
      "  JVM stdout: /tmp/tmpw3uvhu50/h2o_javad_started_from_python.out\n",
      "  JVM stderr: /tmp/tmpw3uvhu50/h2o_javad_started_from_python.err\n",
      "  Server is running at http://127.0.0.1:54321\n",
      "Connecting to H2O server at http://127.0.0.1:54321 ... successful.\n",
      "Warning: Your H2O cluster version is too old (1 year and 9 days)!Please download and install the latest version from http://h2o.ai/download/\n"
     ]
    },
    {
     "data": {
      "text/html": [
       "<div style=\"overflow:auto\"><table style=\"width:50%\"><tr><td>H2O_cluster_uptime:</td>\n",
       "<td>01 secs</td></tr>\n",
       "<tr><td>H2O_cluster_timezone:</td>\n",
       "<td>Asia/Tehran</td></tr>\n",
       "<tr><td>H2O_data_parsing_timezone:</td>\n",
       "<td>UTC</td></tr>\n",
       "<tr><td>H2O_cluster_version:</td>\n",
       "<td>3.36.1.4</td></tr>\n",
       "<tr><td>H2O_cluster_version_age:</td>\n",
       "<td>1 year and 9 days !!!</td></tr>\n",
       "<tr><td>H2O_cluster_name:</td>\n",
       "<td>H2O_from_python_javad_4bhf2v</td></tr>\n",
       "<tr><td>H2O_cluster_total_nodes:</td>\n",
       "<td>1</td></tr>\n",
       "<tr><td>H2O_cluster_free_memory:</td>\n",
       "<td>3.871 Gb</td></tr>\n",
       "<tr><td>H2O_cluster_total_cores:</td>\n",
       "<td>12</td></tr>\n",
       "<tr><td>H2O_cluster_allowed_cores:</td>\n",
       "<td>12</td></tr>\n",
       "<tr><td>H2O_cluster_status:</td>\n",
       "<td>locked, healthy</td></tr>\n",
       "<tr><td>H2O_connection_url:</td>\n",
       "<td>http://127.0.0.1:54321</td></tr>\n",
       "<tr><td>H2O_connection_proxy:</td>\n",
       "<td>{\"http\": null, \"https\": null}</td></tr>\n",
       "<tr><td>H2O_internal_security:</td>\n",
       "<td>False</td></tr>\n",
       "<tr><td>Python_version:</td>\n",
       "<td>3.11.4 final</td></tr></table></div>"
      ],
      "text/plain": [
       "--------------------------  -----------------------------\n",
       "H2O_cluster_uptime:         01 secs\n",
       "H2O_cluster_timezone:       Asia/Tehran\n",
       "H2O_data_parsing_timezone:  UTC\n",
       "H2O_cluster_version:        3.36.1.4\n",
       "H2O_cluster_version_age:    1 year and 9 days !!!\n",
       "H2O_cluster_name:           H2O_from_python_javad_4bhf2v\n",
       "H2O_cluster_total_nodes:    1\n",
       "H2O_cluster_free_memory:    3.871 Gb\n",
       "H2O_cluster_total_cores:    12\n",
       "H2O_cluster_allowed_cores:  12\n",
       "H2O_cluster_status:         locked, healthy\n",
       "H2O_connection_url:         http://127.0.0.1:54321\n",
       "H2O_connection_proxy:       {\"http\": null, \"https\": null}\n",
       "H2O_internal_security:      False\n",
       "Python_version:             3.11.4 final\n",
       "--------------------------  -----------------------------"
      ]
     },
     "metadata": {},
     "output_type": "display_data"
    },
    {
     "name": "stdout",
     "output_type": "stream",
     "text": [
      "Parse progress: |████████████████████████████████████████████████████████████████| (done) 100%\n",
      "Parse progress: |████████████████████████████████████████████████████████████████| (done) 100%\n"
     ]
    }
   ],
   "source": [
    "# To-Do\n",
    "h2o.init()\n",
    "\n",
    "hf_train = h2o.H2OFrame(train_data)\n",
    "hf_test = h2o.H2OFrame(test_data)\n",
    "\n",
    "# x = hf_train.names\n",
    "# x.remove('income')\n",
    "\n",
    "# y = 'income'\n",
    "\n",
    "x = hf_train.drop(index = ['income'])\n",
    "y = hf_train['income']"
   ]
  },
  {
   "cell_type": "code",
   "execution_count": 14,
   "id": "161f972b",
   "metadata": {},
   "outputs": [
    {
     "data": {
      "text/html": [
       "<table>\n",
       "<thead>\n",
       "<tr><th style=\"text-align: right;\">  age</th><th>workclass       </th><th style=\"text-align: right;\">  fnlwgt</th><th>education   </th><th style=\"text-align: right;\">  education.num</th><th>marital.status    </th><th>occupation       </th><th>relationship  </th><th>race  </th><th>sex   </th><th style=\"text-align: right;\">  capital.gain</th><th style=\"text-align: right;\">  capital.loss</th><th style=\"text-align: right;\">  hours.per.week</th><th>native.country  </th></tr>\n",
       "</thead>\n",
       "<tbody>\n",
       "<tr><td style=\"text-align: right;\">   40</td><td>Self-emp-not-inc</td><td style=\"text-align: right;\">  223881</td><td>Prof-school </td><td style=\"text-align: right;\">             15</td><td>Married-civ-spouse</td><td>Prof-specialty   </td><td>Husband       </td><td>White </td><td>Male  </td><td style=\"text-align: right;\">         99999</td><td style=\"text-align: right;\">             0</td><td style=\"text-align: right;\">              70</td><td>United-States   </td></tr>\n",
       "<tr><td style=\"text-align: right;\">   30</td><td>Private         </td><td style=\"text-align: right;\">  149118</td><td>HS-grad     </td><td style=\"text-align: right;\">              9</td><td>Divorced          </td><td>Craft-repair     </td><td>Not-in-family </td><td>White </td><td>Female</td><td style=\"text-align: right;\">             0</td><td style=\"text-align: right;\">             0</td><td style=\"text-align: right;\">              40</td><td>United-States   </td></tr>\n",
       "<tr><td style=\"text-align: right;\">   46</td><td>Private         </td><td style=\"text-align: right;\">  109209</td><td>Some-college</td><td style=\"text-align: right;\">             10</td><td>Married-civ-spouse</td><td>Adm-clerical     </td><td>Husband       </td><td>White </td><td>Male  </td><td style=\"text-align: right;\">             0</td><td style=\"text-align: right;\">             0</td><td style=\"text-align: right;\">              40</td><td>United-States   </td></tr>\n",
       "<tr><td style=\"text-align: right;\">   32</td><td>Private         </td><td style=\"text-align: right;\">  229566</td><td>Assoc-voc   </td><td style=\"text-align: right;\">             11</td><td>Married-civ-spouse</td><td>Other-service    </td><td>Husband       </td><td>White </td><td>Male  </td><td style=\"text-align: right;\">             0</td><td style=\"text-align: right;\">             0</td><td style=\"text-align: right;\">              60</td><td>United-States   </td></tr>\n",
       "<tr><td style=\"text-align: right;\">   54</td><td>?               </td><td style=\"text-align: right;\">  148657</td><td>Preschool   </td><td style=\"text-align: right;\">              1</td><td>Married-civ-spouse</td><td>?                </td><td>Wife          </td><td>White </td><td>Female</td><td style=\"text-align: right;\">             0</td><td style=\"text-align: right;\">             0</td><td style=\"text-align: right;\">              40</td><td>Mexico          </td></tr>\n",
       "<tr><td style=\"text-align: right;\">   63</td><td>Private         </td><td style=\"text-align: right;\">  111963</td><td>Some-college</td><td style=\"text-align: right;\">             10</td><td>Married-civ-spouse</td><td>Prof-specialty   </td><td>Husband       </td><td>White </td><td>Male  </td><td style=\"text-align: right;\">             0</td><td style=\"text-align: right;\">             0</td><td style=\"text-align: right;\">              16</td><td>United-States   </td></tr>\n",
       "<tr><td style=\"text-align: right;\">   25</td><td>Private         </td><td style=\"text-align: right;\">  207875</td><td>7th-8th     </td><td style=\"text-align: right;\">              4</td><td>Married-civ-spouse</td><td>Handlers-cleaners</td><td>Husband       </td><td>White </td><td>Male  </td><td style=\"text-align: right;\">             0</td><td style=\"text-align: right;\">             0</td><td style=\"text-align: right;\">              40</td><td>Mexico          </td></tr>\n",
       "<tr><td style=\"text-align: right;\">   71</td><td>Local-gov       </td><td style=\"text-align: right;\">  229110</td><td>HS-grad     </td><td style=\"text-align: right;\">              9</td><td>Widowed           </td><td>Exec-managerial  </td><td>Other-relative</td><td>White </td><td>Female</td><td style=\"text-align: right;\">             0</td><td style=\"text-align: right;\">             0</td><td style=\"text-align: right;\">              33</td><td>United-States   </td></tr>\n",
       "<tr><td style=\"text-align: right;\">   37</td><td>Private         </td><td style=\"text-align: right;\">   66686</td><td>HS-grad     </td><td style=\"text-align: right;\">              9</td><td>Married-civ-spouse</td><td>Handlers-cleaners</td><td>Husband       </td><td>White </td><td>Male  </td><td style=\"text-align: right;\">             0</td><td style=\"text-align: right;\">             0</td><td style=\"text-align: right;\">              40</td><td>United-States   </td></tr>\n",
       "<tr><td style=\"text-align: right;\">   44</td><td>Private         </td><td style=\"text-align: right;\">  227399</td><td>Assoc-voc   </td><td style=\"text-align: right;\">             11</td><td>Married-civ-spouse</td><td>Exec-managerial  </td><td>Husband       </td><td>Black </td><td>Male  </td><td style=\"text-align: right;\">             0</td><td style=\"text-align: right;\">             0</td><td style=\"text-align: right;\">              40</td><td>United-States   </td></tr>\n",
       "</tbody>\n",
       "</table>"
      ]
     },
     "metadata": {},
     "output_type": "display_data"
    },
    {
     "data": {
      "text/plain": []
     },
     "execution_count": 14,
     "metadata": {},
     "output_type": "execute_result"
    }
   ],
   "source": []
  },
  {
   "cell_type": "markdown",
   "id": "f99f2c94",
   "metadata": {},
   "source": [
    "<h2 align=right style=\"line-height:200%;font-family:vazir;color:#0099cc\">\n",
    "<font face=\"vazir\" color=\"#0099cc\">\n",
    "مدل‌سازی\n",
    "</font>\n",
    "</h2>\n",
    "\n",
    "<p dir=rtl style=\"direction: rtl; text-align: justify; line-height:200%; font-family:vazir; font-size:medium\">\n",
    "<font face=\"vazir\" size=3>\n",
    "    حال که داده را پاکسازی کرده و احتمالا ویژگی‌هایی را به آن افزوده یا از آن حذف کرده‌اید، وقت آن است که مدلی آموزش دهید که بتواند متغیر هدف این مسئله را پیش‌بینی کند. در این تمرین انتخاب کتابخانه‌ای که درخت تصمیم را در اختیارتان بگذارد به عهده‌ی خود شماست. می‌توانید همچون همیشه از کتابخانه‌ی <code>scikit-learn</code> استفاده کنید اما توجه داشته باشید که درخت تصمیم این کتابخانه از قابلیت‌های مهمی مثل مدیریت مستقیم مقادیر گم‌شده و ویژگی‌های دسته‌ای پشتیبانی نمی‌کند و نیاز خواهید داشت که مراحل پیش‌پردازش مختلفی را انجام دهید. اما پیشنهاد بهتر این است که با توجه به توضیحاتی که در ادامه خواهیم داد از کتابخانه‌ی <code>H2O</code> استفاده کنید که از قابلیت‌های ذکرشده پشتیبانی می‌کند و نیازی به طی کردن مراحل اضافی نیست (البته معمولاً عملکرد درخت تصمیم این کتابخانه هم بهتر از درخت تصمیم <code>scikit-learn</code> است). با این حال ما مقدار آستانه‌ی پاس شدن این تمرین را به‌گونه‌ای تنظیم کرده‌ایم که متعادل باشد و با هر دو روش بتوانید امتیاز موردنظر را کسب کنید. حتی می‌توانید خفن‌تر (😎) عمل کرده و با هرکدام از کتابخانه‌ها درخت تصمیمی بسازید و عملکرد آن‌ها را مقایسه کنید. \n",
    "</font>\n",
    "</p>"
   ]
  },
  {
   "cell_type": "markdown",
   "id": "84ccbf48",
   "metadata": {},
   "source": [
    "<h3 align=right style=\"direction: rtl;text-align: right;line-height:200%;font-family:vazir;color:#0099cc\">\n",
    "<font face=\"vazir\" color=\"#0099cc\">\n",
    "    استفاده از <code>scikit-learn</code>\n",
    "</font>\n",
    "</h3>\n",
    "\n",
    "\n",
    "<p dir=rtl style=\"direction: rtl; text-align: justify; line-height:200%; font-family:vazir; font-size:medium\">\n",
    "<font face=\"vazir\" size=3>\n",
    "    به منظور استفاده از درخت تصمیم برای مسائل دسته‌بندی می‌توانید از <code>DecisionTreeClassifier</code> موجود در کتابخانه‌ی <code>scikit-learn</code> استفاده کنید. نحوه‌ی آموزش مدل و پیش‌بینی برای نمونه‌های جدید همچون تمام مدل‌های این کتابخانه است، اما برخی پارامترها و آرگومان‌های بسیار کاربردی این کلاس در جدول زیر شرح داده شده‌اند. جهت بررسی پارامترها و توضیحات بیشتر می‌توانید از <a href=\"https://scikit-learn.org/stable/modules/generated/sklearn.tree.DecisionTreeClassifier.html#sklearn.tree.DecisionTreeClassifier\" target=\"__blank\">این لینک</a>، سند اصلی آن را مطالعه کنید.\n",
    "</font>\n",
    "</p>\n",
    "\n",
    "<center>\n",
    "<p dir=ltr style=\"direction: ltr; line-height:200%; font-family:vazir; font-size:medium\">\n",
    "<font face=\"vazir\" size=3>\n",
    "    <code dir=ltr>from sklearn.tree import DecisionTreeClassifier</code>\n",
    "    <br>\n",
    "    <code dir=ltr>clf = DecisionTreeClassifier()</code>\n",
    "</font>\n",
    "</p>\n",
    "</center>\n",
    "\n",
    "<center>\n",
    "<div dir=rtl style=\"direction: rtl;line-height:200%;font-family:vazir;font-size:medium\">\n",
    "<font face=\"vazir\" size=3>\n",
    "    \n",
    "|پارامتر|توضیحات|مقادیر ممکن|مقدار پیش‌فرض|\n",
    "|:------:|:---:|:---:|:---:|\n",
    "|<code>criterion</code>|معیار ارزیابی تفکیک (معیار ناخالصی یا بهره اطلاعاتی)|<code>\"gini\"</code>، <code>\"entropy\"</code> یا <code>\"log_loss\"</code>|<code>\"gini\"</code>|\n",
    "|<code>max_depth</code>|حداکثر عمق درخت|عدد <code>int</code>|<code>None</code>|\n",
    "|<code>min_samples_split</code>|حداقل نمونه‌ها جهت تفکیک یک گره‌ی داخلی|عدد <code>int</code> (تعداد) یا <code>float</code> (درصد)|<code>2</code>|\n",
    "|<code>min_samples_leaf</code>|حداقل نمونه‌های یک برگ. یک گره تنها در صورتی تفکیک می‌یابد که هرکدام از شاخه‌های راست و چپ آن حداقل شامل این تعداد نمونه باشد|عدد <code>int</code> (تعداد) یا <code>float</code> (درصد)|<code>1</code>|\n",
    "|<code>max_features</code>|تعداد ویژگی‌هایی که در هنگام جستجوی بهترین تفکیک بررسی می‌شوند|عدد <code>int</code> (تعداد)، <code>float</code> (درصد)، ، <code>\"sqrt\"</code> (جذر)، <code>\"log2\"</code> (لگاریتم در مبنای ۲) یا <code>None</code> (تمام ویژگی‌ها)|<code>None</code>|\n",
    "|<code>min_impurity_decrease</code>|یک گره هنگامی تفکیک می‌شود که آن تفکیک باعث کاهش ناخالصی بیشتر یا مساوی این مقدار شود|عدد <code>float</code>|<code>0.0</code>|\n",
    "    \n",
    "</font>\n",
    "</div>\n",
    "</center>\n",
    "\n",
    "\n",
    "<p dir=rtl style=\"direction: rtl; text-align: justify; line-height:200%; font-family:vazir; font-size:medium\">\n",
    "<font face=\"vazir\" size=3>\n",
    "    <b>نکته:</b>\n",
    "    پارامتر کاربردی دیگری به نام <code>ccp_alpha</code> وجود دارد که به منظور پس‌هرس درخت تصمیم با روش Minimal Cost-Complexity استفاده می‌شود. از آنجا که شرح این تکنیک خارج از بحث این فصل است، ضرورتی بر استفاده از آن تعریف نشده است. اما در صورت علاقه می‌توانید برای مطالعه‌ی این روش جذاب به بخش <a href=\"https://scikit-learn.org/stable/modules/tree.html#minimal-cost-complexity-pruning\" target=\"__blank\">معرفی آن</a> در <code>scikit-learn</code> یا فصل سوم کتاب <i>Classification and Regression Trees</i> نوشته‌ی <i>Leo Breiman</i> مراجعه کرده و یا به شکلی ساده‌تر و جذاب‌تر <a href=\"https://youtu.be/D0efHEJsfHo\" target=\"__blank\">این ویدیو</a> را از <i>StatQuest</i> مشاهده کنید.  \n",
    "</font>\n",
    "</p>\n",
    "\n",
    "<p dir=rtl style=\"direction: rtl; text-align: justify; line-height:200%; font-family:vazir; font-size:medium\">\n",
    "<font face=\"vazir\" size=3>\n",
    "    اگر مدل را <code>clf</code> بنامیم، پس از آموزش آن می‌توانید به کمک توابع یا متغیرهای زیر، برخی ویژگی‌های مهم درخت تصمیم را مورد بررسی قرار دهید.\n",
    "</font>\n",
    "</p>\n",
    "\n",
    "<center>\n",
    "<div dir=rtl style=\"direction: rtl;line-height:200%;font-family:vazir;font-size:medium\">\n",
    "<font face=\"vazir\" size=3>\n",
    "    \n",
    "|پارامتر|توضیحات|\n",
    "|:------:|:---:|\n",
    "| <code dir=ltr>clf.get_depth()</code> | عمق درخت |\n",
    "| <code dir=ltr>clf.get_n_leaves()</code> | تعداد برگ‌های درخت |\n",
    "| <code dir=ltr>clf.feature_names_in_</code> | ویژگی‌های ورودی |\n",
    "| <code dir=ltr>clf.feature_importances_</code> | اهمیت هر ویژگی طبق معیار ناخالصی |\n",
    "    \n",
    "</font>\n",
    "</div>\n",
    "</center>\n",
    "\n",
    "<p dir=rtl style=\"direction: rtl; text-align: justify; line-height:200%; font-family:vazir; font-size:medium\">\n",
    "<font face=\"vazir\" size=3>\n",
    "    همچنین طبق کد زیر می‌توانید به کمک تابع <code>plot_tree</code> درخت تصمیم خود را ترسیم کنید. البته در صورتی‌که درخت حاصل بزرگ باشد ترسیم آن چندان جالب به نظر نخواهد رسید.\n",
    "</font>\n",
    "</p>\n",
    "\n",
    "<center>\n",
    "<p dir=ltr style=\"direction: ltr; line-height:200%; font-family:vazir; font-size:medium\">\n",
    "<font face=\"vazir\" size=3>\n",
    "    <code dir=ltr>from sklearn import tree</code>\n",
    "    <br>\n",
    "    <code dir=ltr>tree.plot_tree(clf)</code>\n",
    "</font>\n",
    "</p>\n",
    "</center>"
   ]
  },
  {
   "cell_type": "markdown",
   "id": "c43db0ea",
   "metadata": {},
   "source": [
    "<h3 align=right style=\"direction: rtl;text-align: right;line-height:200%;font-family:vazir;color:#0099cc\">\n",
    "<font face=\"vazir\" color=\"#0099cc\">\n",
    "    استفاده از <code>H2O</code>\n",
    "</font>\n",
    "</h3>\n",
    "\n",
    "\n",
    "<p dir=rtl style=\"direction: rtl; text-align: justify; line-height:200%; font-family:vazir; font-size:medium\">\n",
    "<font face=\"vazir\" size=3>\n",
    "    در کتابخانه‌ی <code>H2O</code> درخت تصمیم به‌صورت مشخص پیاده‌سازی نشده اما به کمک ترفندی که شرح خواهیم داد می‌توانید به یک درخت تصمیم دست یابید. در این کتابخانه مدل‌های حرفه‌ای‌تری پیاده‌سازی شده که در واقع اساس آن‌ها درخت تصمیم است. یکی از این مدل‌ها «<i>جنگل تصادفی</i>» نام دارد که در این کتابخانه با نام <code>H2ORandomForestEstimator</code> در دسترس است و در فصل یادگیری تجمعی کاملاً با ساختار آن آشنا خواهید شد. این مدل در واقع متشکل از تعداد زیادی درخت تصمیم است. بنابراین اگر ما یک جنگل تصادفی بسازیم که تنها شامل یک درخت باشد  در واقع مدل همانند یک درخت تصمیم عمل خواهد کرد. البته نیاز است به شکل زیر برخی از پارامترهای آن را به گونه‌ای مقداردهی کنیم که رفتاری شبیه به درخت تصمیم داشته باشد.\n",
    "</font>\n",
    "</p>\n",
    "\n",
    "<center>\n",
    "<p dir=ltr style=\"direction: ltr; line-height:200%; font-family:vazir; font-size:medium\">\n",
    "<font face=\"vazir\" size=3>\n",
    "<code>from h2o.estimators import H2ORandomForestEstimator</code>\n",
    "<br>\n",
    "<code>model = H2ORandomForestEstimator(ntrees=1, sample_rate=1)</code>\n",
    "</font>\n",
    "</p>\n",
    "</center>\n",
    "\n",
    "<p dir=rtl style=\"direction: rtl; text-align: justify; line-height:200%; font-family:vazir; font-size:medium\">\n",
    "<font face=\"vazir\" size=3>\n",
    "    برخی از پارامترهای کاربردی این کلاس نیز در جدول زیر معرفی و شرح داده شده است. جهت بررسی پارامترها و توضیحات بیشتر می‌توانید از <a href=\"https://docs.h2o.ai/h2o/latest-stable/h2o-docs/data-science/drf.html\" target=\"__blank\">این لینک</a>، سند اصلی آن را مطالعه کنید.\n",
    "</font>\n",
    "</p>\n",
    "\n",
    "\n",
    "<center>\n",
    "<div dir=rtl style=\"direction: rtl;line-height:200%;font-family:vazir;font-size:medium\">\n",
    "<font face=\"vazir\" size=3>\n",
    "    \n",
    "|پارامتر|توضیحات|مقادیر ممکن|مقدار پیش‌فرض|\n",
    "|:------:|:-----:|:---:|:---:|\n",
    "|<code>mtries</code>|تعداد ویژگی‌هایی که به‌صورت تصادفی در هر سطح برای جستجوی بهترین تفکیک استفاده می‌شود| <code dir=ltr>-1</code> برای جذر، <code dir=ltr>-2</code> برای تمام ویژگی‌ها یا عدد بزرگتر یا مساوی <code>1</code> |<code dir=ltr>-1</code>|\n",
    "|<code>max_depth</code>|حداکثر عمق درخت|عدد <code>int</code>|<code>20</code>|\n",
    "|<code>min_rows</code>|حداقل نمونه‌های یک برگ. یک گره تنها در صورتی تفکیک می‌یابد که هرکدام از شاخه‌های راست و چپ آن حداقل شامل این تعداد نمونه باشد|عدد <code>int</code>|<code>1</code>|\n",
    "|<code>min_split_improvement</code>|یک گره هنگامی تفکیک می‌شود که کاهش مربعات خطا حداقل به این میزان بهبود یابد|عدد کوچک (پیشنهاد می‌شود در بازه‌ی <code>1e-10</code> تا <code>1e-3</code> باشد)|<code>1e-05</code>|\n",
    "|<code>categorical_encoding</code>|رویکرد مدیریت ویژگی‌های دسته‌ای|<code>\"auto\"</code> (به‌صورت پیش‌فرض معادل <code>\"enum\"</code>)، <code>\"enum\"</code> (پشتیبانی مستقیم از ویژگی دسته‌ای)، <code>\"one_hot_explicit\"</code> (کدگذاری one-hot)،  <code>\"binary\"</code> (کدگذاری باینری)، <code>\"label_encoder\"</code> (برچسب‌گذاری) و غیره|<code>\"auto\"</code>|\n",
    "|<code>balance_classes</code>|متوازن‌سازی مجموعه‌داده به کمک نمونه‌افزایی کلاس اقلیت|<code>True</code> یا <code>False</code>|<code>False</code>|\n",
    "|<code>nfolds</code>|تعداد قطعه‌ها در اعتبارسنجی متقاطع (cross-validation)|عدد <code>int</code>|<code>0</code>|\n",
    "    \n",
    "</font>\n",
    "</div>\n",
    "</center>\n",
    "\n",
    "<p dir=rtl style=\"direction: rtl; text-align: justify; line-height:200%; font-family:vazir; font-size:medium\">\n",
    "<font face=\"vazir\" size=3>\n",
    "    برای استفاده از <code>H2O</code> پیش از هرچیز نیاز است مراحل راه‌اندازی آن را که در درسنامه‌ی مربوط به این کتابخانه شرح داده شد اجرا کرده باشید و همچنین دیتافریم‌های خود را به <code>H2OFrame</code> تبدیل کرده باشید. پس از آن می‌توانید به کمک مدل معرفی‌شده در بالا پارامترهای موردنظر خود را مقداردهی کنید. سپس جهت آموزش مدل نیاز است تابع <code dir=ltr>fit()</code> را با سه آرگومان مهم زیر صدا بزنید.\n",
    "</font>\n",
    "</p>\n",
    "\n",
    "<center>\n",
    "<div dir=rtl style=\"direction: rtl;line-height:200%;font-family:vazir;font-size:medium\">\n",
    "<font face=\"vazir\" size=3>\n",
    "    \n",
    "|پارامتر|توضیحات|\n",
    "|:------:|:-----:|\n",
    "|<code>x</code>| لیستی شامل نام ستون‌های ورودی (ویژگی‌ها) |\n",
    "|<code>y</code>| نام ستون متغیر هدف |\n",
    "|<code>training_frame</code>| داده‌های آموزشی از جنس <code>H2OFrame</code> |\n",
    "|<code>validation_frame</code>| داده‌های اعتبارسنجی از جنس <code>H2OFrame</code> (دلخواه)|\n",
    "\n",
    "    \n",
    "</font>\n",
    "</div>\n",
    "</center>\n",
    "\n",
    "<p dir=rtl style=\"direction: rtl; text-align: justify; line-height:200%; font-family:vazir; font-size:medium\">\n",
    "<font face=\"vazir\" size=3>\n",
    "    جهت پیش‌بینی نیز می‌توانید <code>H2OFrame</code> موردنظر خود را به تابع <code dir=ltr>predict()</code> بدهید تا مدل شروع به پیش‌بینی متغیر هدف برای نمونه‌های موردنظر شما کند. توجه داشته باشید که اگر قصد دارید مقادیر پیش‌بینی‌شده را به یک دیتافریم <code>pandas</code> تبدیل کنید می‌توانید از تابع <code dir=ltr>as_data_frame()</code> استفاده کنید. مقادیر پیش‌بینی‌شده در ستونی به نام <code>predict</code> در دیتافریم به‌دست‌آمده ذخیره شده‌اند. \n",
    "</font>\n",
    "</p>"
   ]
  },
  {
   "cell_type": "markdown",
   "id": "7d90b4d9",
   "metadata": {},
   "source": [
    "<h3 align=right style=\"line-height:200%;font-family:vazir;color:#0099cc\">\n",
    "<font face=\"vazir\" color=\"#0099cc\">\n",
    "آموزش مدل\n",
    "</font>\n",
    "</h3>\n",
    "\n",
    "<p dir=rtl style=\"direction: rtl; text-align: justify; line-height:200%; font-family:vazir; font-size:medium\">\n",
    "<font face=\"vazir\" size=3>\n",
    "    اکنون وقت آن رسیده که با توجه به کتابخانه‌ی انتخابی، مدل را آموزش دهید.\n",
    "</font>\n",
    "</p>"
   ]
  },
  {
   "cell_type": "code",
   "execution_count": 18,
   "id": "4c31dfa4",
   "metadata": {},
   "outputs": [
    {
     "name": "stdout",
     "output_type": "stream",
     "text": [
      "drf Model Build progress: |"
     ]
    },
    {
     "name": "stderr",
     "output_type": "stream",
     "text": [
      "/tmp/ipykernel_6384/2430456162.py:12: UserWarning: \n",
      "\n",
      "\t`fit` is not recommended outside of the sklearn framework. Use `train` instead.\n",
      "  model.fit(x, y)\n",
      "/home/javad/My Folders/Courses/Quera_ML/qenv/lib/python3.11/site-packages/h2o/estimators/estimator_base.py:208: RuntimeWarning: Sample rate is 100% and no validation dataset and no cross-validation. There are no out-of-bag data to compute error estimates on the training data!\n",
      "  warnings.warn(mesg[\"message\"], RuntimeWarning)\n"
     ]
    },
    {
     "name": "stdout",
     "output_type": "stream",
     "text": [
      "██████████████████████████████████████████████████████| (done) 100%\n",
      "drf prediction progress: |███████████████████████████████████████████████████████| (done) 100%\n",
      "0 0\n",
      "drf Model Build progress: |"
     ]
    },
    {
     "name": "stderr",
     "output_type": "stream",
     "text": [
      "/tmp/ipykernel_6384/2430456162.py:12: UserWarning: \n",
      "\n",
      "\t`fit` is not recommended outside of the sklearn framework. Use `train` instead.\n",
      "  model.fit(x, y)\n",
      "/home/javad/My Folders/Courses/Quera_ML/qenv/lib/python3.11/site-packages/h2o/estimators/estimator_base.py:208: RuntimeWarning: Sample rate is 100% and no validation dataset and no cross-validation. There are no out-of-bag data to compute error estimates on the training data!\n",
      "  warnings.warn(mesg[\"message\"], RuntimeWarning)\n"
     ]
    },
    {
     "name": "stdout",
     "output_type": "stream",
     "text": [
      "██████████████████████████████████████████████████████| (done) 100%\n",
      "drf prediction progress: |███████████████████████████████████████████████████████| (done) 100%\n",
      "2 0.5218587911506298\n",
      "drf Model Build progress: |"
     ]
    },
    {
     "name": "stderr",
     "output_type": "stream",
     "text": [
      "/tmp/ipykernel_6384/2430456162.py:12: UserWarning: \n",
      "\n",
      "\t`fit` is not recommended outside of the sklearn framework. Use `train` instead.\n",
      "  model.fit(x, y)\n",
      "/home/javad/My Folders/Courses/Quera_ML/qenv/lib/python3.11/site-packages/h2o/estimators/estimator_base.py:208: RuntimeWarning: Sample rate is 100% and no validation dataset and no cross-validation. There are no out-of-bag data to compute error estimates on the training data!\n",
      "  warnings.warn(mesg[\"message\"], RuntimeWarning)\n"
     ]
    },
    {
     "name": "stdout",
     "output_type": "stream",
     "text": [
      "██████████████████████████████████████████████████████| (done) 100%\n",
      "drf prediction progress: |███████████████████████████████████████████████████████| (done) 100%\n",
      "2 0.5218587911506298\n",
      "drf Model Build progress: |"
     ]
    },
    {
     "name": "stderr",
     "output_type": "stream",
     "text": [
      "/tmp/ipykernel_6384/2430456162.py:12: UserWarning: \n",
      "\n",
      "\t`fit` is not recommended outside of the sklearn framework. Use `train` instead.\n",
      "  model.fit(x, y)\n",
      "/home/javad/My Folders/Courses/Quera_ML/qenv/lib/python3.11/site-packages/h2o/estimators/estimator_base.py:208: RuntimeWarning: Sample rate is 100% and no validation dataset and no cross-validation. There are no out-of-bag data to compute error estimates on the training data!\n",
      "  warnings.warn(mesg[\"message\"], RuntimeWarning)\n"
     ]
    },
    {
     "name": "stdout",
     "output_type": "stream",
     "text": [
      "██████████████████████████████████████████████████████| (done) 100%\n",
      "drf prediction progress: |███████████████████████████████████████████████████████| (done) 100%\n",
      "4 0.6222369401440517\n",
      "drf Model Build progress: |"
     ]
    },
    {
     "name": "stderr",
     "output_type": "stream",
     "text": [
      "/tmp/ipykernel_6384/2430456162.py:12: UserWarning: \n",
      "\n",
      "\t`fit` is not recommended outside of the sklearn framework. Use `train` instead.\n",
      "  model.fit(x, y)\n",
      "/home/javad/My Folders/Courses/Quera_ML/qenv/lib/python3.11/site-packages/h2o/estimators/estimator_base.py:208: RuntimeWarning: Sample rate is 100% and no validation dataset and no cross-validation. There are no out-of-bag data to compute error estimates on the training data!\n",
      "  warnings.warn(mesg[\"message\"], RuntimeWarning)\n"
     ]
    },
    {
     "name": "stdout",
     "output_type": "stream",
     "text": [
      "██████████████████████████████████████████████████████| (done) 100%\n",
      "drf prediction progress: |███████████████████████████████████████████████████████| (done) 100%\n",
      "4 0.6222369401440517\n",
      "drf Model Build progress: |"
     ]
    },
    {
     "name": "stderr",
     "output_type": "stream",
     "text": [
      "/tmp/ipykernel_6384/2430456162.py:12: UserWarning: \n",
      "\n",
      "\t`fit` is not recommended outside of the sklearn framework. Use `train` instead.\n",
      "  model.fit(x, y)\n",
      "/home/javad/My Folders/Courses/Quera_ML/qenv/lib/python3.11/site-packages/h2o/estimators/estimator_base.py:208: RuntimeWarning: Sample rate is 100% and no validation dataset and no cross-validation. There are no out-of-bag data to compute error estimates on the training data!\n",
      "  warnings.warn(mesg[\"message\"], RuntimeWarning)\n"
     ]
    },
    {
     "name": "stdout",
     "output_type": "stream",
     "text": [
      "██████████████████████████████████████████████████████| (done) 100%\n",
      "drf prediction progress: |███████████████████████████████████████████████████████| (done) 100%\n",
      "6 0.6265239646347138\n",
      "drf Model Build progress: |"
     ]
    },
    {
     "name": "stderr",
     "output_type": "stream",
     "text": [
      "/tmp/ipykernel_6384/2430456162.py:12: UserWarning: \n",
      "\n",
      "\t`fit` is not recommended outside of the sklearn framework. Use `train` instead.\n",
      "  model.fit(x, y)\n",
      "/home/javad/My Folders/Courses/Quera_ML/qenv/lib/python3.11/site-packages/h2o/estimators/estimator_base.py:208: RuntimeWarning: Sample rate is 100% and no validation dataset and no cross-validation. There are no out-of-bag data to compute error estimates on the training data!\n",
      "  warnings.warn(mesg[\"message\"], RuntimeWarning)\n"
     ]
    },
    {
     "name": "stdout",
     "output_type": "stream",
     "text": [
      "██████████████████████████████████████████████████████| (done) 100%\n",
      "drf prediction progress: |███████████████████████████████████████████████████████| (done) 100%\n",
      "7 0.6268770923003348\n",
      "drf Model Build progress: |"
     ]
    },
    {
     "name": "stderr",
     "output_type": "stream",
     "text": [
      "/tmp/ipykernel_6384/2430456162.py:12: UserWarning: \n",
      "\n",
      "\t`fit` is not recommended outside of the sklearn framework. Use `train` instead.\n",
      "  model.fit(x, y)\n",
      "/home/javad/My Folders/Courses/Quera_ML/qenv/lib/python3.11/site-packages/h2o/estimators/estimator_base.py:208: RuntimeWarning: Sample rate is 100% and no validation dataset and no cross-validation. There are no out-of-bag data to compute error estimates on the training data!\n",
      "  warnings.warn(mesg[\"message\"], RuntimeWarning)\n"
     ]
    },
    {
     "name": "stdout",
     "output_type": "stream",
     "text": [
      "██████████████████████████████████████████████████████| (done) 100%\n",
      "drf prediction progress: |███████████████████████████████████████████████████████| (done) 100%\n",
      "8 0.6534919073593849\n",
      "drf Model Build progress: |"
     ]
    },
    {
     "name": "stderr",
     "output_type": "stream",
     "text": [
      "/tmp/ipykernel_6384/2430456162.py:12: UserWarning: \n",
      "\n",
      "\t`fit` is not recommended outside of the sklearn framework. Use `train` instead.\n",
      "  model.fit(x, y)\n",
      "/home/javad/My Folders/Courses/Quera_ML/qenv/lib/python3.11/site-packages/h2o/estimators/estimator_base.py:208: RuntimeWarning: Sample rate is 100% and no validation dataset and no cross-validation. There are no out-of-bag data to compute error estimates on the training data!\n",
      "  warnings.warn(mesg[\"message\"], RuntimeWarning)\n"
     ]
    },
    {
     "name": "stdout",
     "output_type": "stream",
     "text": [
      "██████████████████████████████████████████████████████| (done) 100%\n",
      "drf prediction progress: |███████████████████████████████████████████████████████| (done) 100%\n",
      "9 0.6887096774193548\n",
      "drf Model Build progress: |"
     ]
    },
    {
     "name": "stderr",
     "output_type": "stream",
     "text": [
      "/tmp/ipykernel_6384/2430456162.py:12: UserWarning: \n",
      "\n",
      "\t`fit` is not recommended outside of the sklearn framework. Use `train` instead.\n",
      "  model.fit(x, y)\n",
      "/home/javad/My Folders/Courses/Quera_ML/qenv/lib/python3.11/site-packages/h2o/estimators/estimator_base.py:208: RuntimeWarning: Sample rate is 100% and no validation dataset and no cross-validation. There are no out-of-bag data to compute error estimates on the training data!\n",
      "  warnings.warn(mesg[\"message\"], RuntimeWarning)\n"
     ]
    },
    {
     "name": "stdout",
     "output_type": "stream",
     "text": [
      "██████████████████████████████████████████████████████| (done) 100%\n",
      "drf prediction progress: |███████████████████████████████████████████████████████| (done) 100%\n",
      "9 0.6887096774193548\n",
      "drf Model Build progress: |"
     ]
    },
    {
     "name": "stderr",
     "output_type": "stream",
     "text": [
      "/tmp/ipykernel_6384/2430456162.py:12: UserWarning: \n",
      "\n",
      "\t`fit` is not recommended outside of the sklearn framework. Use `train` instead.\n",
      "  model.fit(x, y)\n",
      "/home/javad/My Folders/Courses/Quera_ML/qenv/lib/python3.11/site-packages/h2o/estimators/estimator_base.py:208: RuntimeWarning: Sample rate is 100% and no validation dataset and no cross-validation. There are no out-of-bag data to compute error estimates on the training data!\n",
      "  warnings.warn(mesg[\"message\"], RuntimeWarning)\n"
     ]
    },
    {
     "name": "stdout",
     "output_type": "stream",
     "text": [
      "██████████████████████████████████████████████████████| (done) 100%\n",
      "drf prediction progress: |███████████████████████████████████████████████████████| (done) 100%\n",
      "11 0.7071884540660561\n",
      "drf Model Build progress: |"
     ]
    },
    {
     "name": "stderr",
     "output_type": "stream",
     "text": [
      "/tmp/ipykernel_6384/2430456162.py:12: UserWarning: \n",
      "\n",
      "\t`fit` is not recommended outside of the sklearn framework. Use `train` instead.\n",
      "  model.fit(x, y)\n",
      "/home/javad/My Folders/Courses/Quera_ML/qenv/lib/python3.11/site-packages/h2o/estimators/estimator_base.py:208: RuntimeWarning: Sample rate is 100% and no validation dataset and no cross-validation. There are no out-of-bag data to compute error estimates on the training data!\n",
      "  warnings.warn(mesg[\"message\"], RuntimeWarning)\n"
     ]
    },
    {
     "name": "stdout",
     "output_type": "stream",
     "text": [
      "██████████████████████████████████████████████████████| (done) 100%\n",
      "drf prediction progress: |███████████████████████████████████████████████████████| (done) 100%\n",
      "11 0.7071884540660561\n",
      "drf Model Build progress: |"
     ]
    },
    {
     "name": "stderr",
     "output_type": "stream",
     "text": [
      "/tmp/ipykernel_6384/2430456162.py:12: UserWarning: \n",
      "\n",
      "\t`fit` is not recommended outside of the sklearn framework. Use `train` instead.\n",
      "  model.fit(x, y)\n",
      "/home/javad/My Folders/Courses/Quera_ML/qenv/lib/python3.11/site-packages/h2o/estimators/estimator_base.py:208: RuntimeWarning: Sample rate is 100% and no validation dataset and no cross-validation. There are no out-of-bag data to compute error estimates on the training data!\n",
      "  warnings.warn(mesg[\"message\"], RuntimeWarning)\n"
     ]
    },
    {
     "name": "stdout",
     "output_type": "stream",
     "text": [
      "██████████████████████████████████████████████████████| (done) 100%\n",
      "drf prediction progress: |███████████████████████████████████████████████████████| (done) 100%\n",
      "13 0.7226137091607944\n",
      "drf Model Build progress: |"
     ]
    },
    {
     "name": "stderr",
     "output_type": "stream",
     "text": [
      "/tmp/ipykernel_6384/2430456162.py:12: UserWarning: \n",
      "\n",
      "\t`fit` is not recommended outside of the sklearn framework. Use `train` instead.\n",
      "  model.fit(x, y)\n",
      "/home/javad/My Folders/Courses/Quera_ML/qenv/lib/python3.11/site-packages/h2o/estimators/estimator_base.py:208: RuntimeWarning: Sample rate is 100% and no validation dataset and no cross-validation. There are no out-of-bag data to compute error estimates on the training data!\n",
      "  warnings.warn(mesg[\"message\"], RuntimeWarning)\n"
     ]
    },
    {
     "name": "stdout",
     "output_type": "stream",
     "text": [
      "██████████████████████████████████████████████████████| (done) 100%\n",
      "drf prediction progress: |███████████████████████████████████████████████████████| (done) 100%\n",
      "14 0.746245733788396\n",
      "drf Model Build progress: |"
     ]
    },
    {
     "name": "stderr",
     "output_type": "stream",
     "text": [
      "/tmp/ipykernel_6384/2430456162.py:12: UserWarning: \n",
      "\n",
      "\t`fit` is not recommended outside of the sklearn framework. Use `train` instead.\n",
      "  model.fit(x, y)\n",
      "/home/javad/My Folders/Courses/Quera_ML/qenv/lib/python3.11/site-packages/h2o/estimators/estimator_base.py:208: RuntimeWarning: Sample rate is 100% and no validation dataset and no cross-validation. There are no out-of-bag data to compute error estimates on the training data!\n",
      "  warnings.warn(mesg[\"message\"], RuntimeWarning)\n"
     ]
    },
    {
     "name": "stdout",
     "output_type": "stream",
     "text": [
      "██████████████████████████████████████████████████████| (done) 100%\n",
      "drf prediction progress: |███████████████████████████████████████████████████████| (done) 100%\n",
      "15 0.755868544600939\n",
      "drf Model Build progress: |"
     ]
    },
    {
     "name": "stderr",
     "output_type": "stream",
     "text": [
      "/tmp/ipykernel_6384/2430456162.py:12: UserWarning: \n",
      "\n",
      "\t`fit` is not recommended outside of the sklearn framework. Use `train` instead.\n",
      "  model.fit(x, y)\n",
      "/home/javad/My Folders/Courses/Quera_ML/qenv/lib/python3.11/site-packages/h2o/estimators/estimator_base.py:208: RuntimeWarning: Sample rate is 100% and no validation dataset and no cross-validation. There are no out-of-bag data to compute error estimates on the training data!\n",
      "  warnings.warn(mesg[\"message\"], RuntimeWarning)\n"
     ]
    },
    {
     "name": "stdout",
     "output_type": "stream",
     "text": [
      "██████████████████████████████████████████████████████| (done) 100%\n",
      "drf prediction progress: |███████████████████████████████████████████████████████| (done) 100%\n",
      "16 0.7786578466359126\n",
      "drf Model Build progress: |"
     ]
    },
    {
     "name": "stderr",
     "output_type": "stream",
     "text": [
      "/tmp/ipykernel_6384/2430456162.py:12: UserWarning: \n",
      "\n",
      "\t`fit` is not recommended outside of the sklearn framework. Use `train` instead.\n",
      "  model.fit(x, y)\n",
      "/home/javad/My Folders/Courses/Quera_ML/qenv/lib/python3.11/site-packages/h2o/estimators/estimator_base.py:208: RuntimeWarning: Sample rate is 100% and no validation dataset and no cross-validation. There are no out-of-bag data to compute error estimates on the training data!\n",
      "  warnings.warn(mesg[\"message\"], RuntimeWarning)\n"
     ]
    },
    {
     "name": "stdout",
     "output_type": "stream",
     "text": [
      "██████████████████████████████████████████████████████| (done) 100%\n",
      "drf prediction progress: |███████████████████████████████████████████████████████| (done) 100%\n",
      "17 0.7839986175911525\n",
      "drf Model Build progress: |"
     ]
    },
    {
     "name": "stderr",
     "output_type": "stream",
     "text": [
      "/tmp/ipykernel_6384/2430456162.py:12: UserWarning: \n",
      "\n",
      "\t`fit` is not recommended outside of the sklearn framework. Use `train` instead.\n",
      "  model.fit(x, y)\n",
      "/home/javad/My Folders/Courses/Quera_ML/qenv/lib/python3.11/site-packages/h2o/estimators/estimator_base.py:208: RuntimeWarning: Sample rate is 100% and no validation dataset and no cross-validation. There are no out-of-bag data to compute error estimates on the training data!\n",
      "  warnings.warn(mesg[\"message\"], RuntimeWarning)\n"
     ]
    },
    {
     "name": "stdout",
     "output_type": "stream",
     "text": [
      "██████████████████████████████████████████████████████| (done) 100%\n",
      "drf prediction progress: |███████████████████████████████████████████████████████| (done) 100%\n",
      "18 0.7896451527692172\n",
      "drf Model Build progress: |"
     ]
    },
    {
     "name": "stderr",
     "output_type": "stream",
     "text": [
      "/tmp/ipykernel_6384/2430456162.py:12: UserWarning: \n",
      "\n",
      "\t`fit` is not recommended outside of the sklearn framework. Use `train` instead.\n",
      "  model.fit(x, y)\n",
      "/home/javad/My Folders/Courses/Quera_ML/qenv/lib/python3.11/site-packages/h2o/estimators/estimator_base.py:208: RuntimeWarning: Sample rate is 100% and no validation dataset and no cross-validation. There are no out-of-bag data to compute error estimates on the training data!\n",
      "  warnings.warn(mesg[\"message\"], RuntimeWarning)\n"
     ]
    },
    {
     "name": "stdout",
     "output_type": "stream",
     "text": [
      "██████████████████████████████████████████████████████| (done) 100%\n",
      "drf prediction progress: |███████████████████████████████████████████████████████| (done) 100%\n",
      "19 0.8050478677110531\n",
      "drf Model Build progress: |"
     ]
    },
    {
     "name": "stderr",
     "output_type": "stream",
     "text": [
      "/tmp/ipykernel_6384/2430456162.py:12: UserWarning: \n",
      "\n",
      "\t`fit` is not recommended outside of the sklearn framework. Use `train` instead.\n",
      "  model.fit(x, y)\n",
      "/home/javad/My Folders/Courses/Quera_ML/qenv/lib/python3.11/site-packages/h2o/estimators/estimator_base.py:208: RuntimeWarning: Sample rate is 100% and no validation dataset and no cross-validation. There are no out-of-bag data to compute error estimates on the training data!\n",
      "  warnings.warn(mesg[\"message\"], RuntimeWarning)\n"
     ]
    },
    {
     "name": "stdout",
     "output_type": "stream",
     "text": [
      "██████████████████████████████████████████████████████| (done) 100%\n",
      "drf prediction progress: |███████████████████████████████████████████████████████| (done) 100%\n",
      "20 0.8329036014305914\n"
     ]
    }
   ],
   "source": [
    "# To-Do\n",
    "from h2o.estimators import H2ORandomForestEstimator\n",
    "\n",
    "model = H2ORandomForestEstimator(ntrees=1, sample_rate=1, balance_classes=True, min_row=2, missing)\n",
    "model.fit(x, y)"
   ]
  },
  {
   "cell_type": "markdown",
   "id": "33da5d2a",
   "metadata": {},
   "source": [
    "<h3 align=right style=\"line-height:200%;font-family:vazir;color:#0099cc\">\n",
    "<font face=\"vazir\" color=\"#0099cc\">\n",
    "معیار ارزیابی\n",
    "</font>\n",
    "</h3>\n",
    "\n",
    "<p dir=rtl style=\"direction: rtl; text-align: justify; line-height:200%; font-family:vazir; font-size:medium\">\n",
    "<font face=\"vazir\" size=3>\n",
    "    معیاری که برای ارزیابی عملکرد مدل انتخاب کرده‌ایم، <code>F1-score</code> نام دارد و کلاس مثبت (<code>pos_label</code>) را معادل <code dir=ltr>>50K</code> فرض کرده‌ایم، به این معنی که مدل شما باید برای پیش‌بینی درست افراد پردرآمد عملکرد مناسبی داشته باشد.\n",
    "    <br>\n",
    "    پیشنهاد می‌شود با توجه به این معیار، عملکرد مدل خود را بر روی مجموعه‌ی آموزش یا اعتبارسنجی ارزیابی کنید و طبق نتایج به‌دست‌آمده پارامترهای مدل خود را بهتر تنظیم کنید.\n",
    "</font>\n",
    "</p>"
   ]
  },
  {
   "cell_type": "code",
   "execution_count": 19,
   "id": "cee1b883",
   "metadata": {},
   "outputs": [
    {
     "name": "stdout",
     "output_type": "stream",
     "text": [
      "drf prediction progress: |"
     ]
    },
    {
     "name": "stdout",
     "output_type": "stream",
     "text": [
      "███████████████████████████████████████████████████████| (done) 100%\n"
     ]
    },
    {
     "data": {
      "text/plain": [
       "0.8329036014305914"
      ]
     },
     "execution_count": 19,
     "metadata": {},
     "output_type": "execute_result"
    }
   ],
   "source": [
    "from sklearn.metrics import f1_score\n",
    "\n",
    "# To-Do\n",
    "\n",
    "y_pred = model.predict(x)\n",
    "\n",
    "y_arr = y.as_data_frame()\n",
    "y_pred_arr = y_pred['predict'].as_data_frame()\n",
    "\n",
    "\n",
    "f1_score(y_arr['income'], y_pred_arr['predict'], pos_label=\">50K\")"
   ]
  },
  {
   "cell_type": "markdown",
   "id": "ddad09cf",
   "metadata": {},
   "source": [
    "<p dir=rtl style=\"direction: rtl; text-align: justify; line-height:200%; font-family:vazir; font-size:medium\">\n",
    "<font color=\"red\"><b color='red'>توجه:</b></font>\n",
    "<font face=\"vazir\" size=3>\n",
    " جهت کسب امتیاز کامل نیاز است تا پاسخ شما حداقل امتیاز <code>66</code> را با توجه به معیار معرفی‌شده کسب نماید.\n",
    "</font>\n",
    "</p>"
   ]
  },
  {
   "attachments": {},
   "cell_type": "markdown",
   "id": "4e9984de",
   "metadata": {},
   "source": [
    "<h2 align=right style=\"line-height:200%;font-family:vazir;color:#0099cc\">\n",
    "<font face=\"vazir\" color=\"#0099cc\">\n",
    " پیش‌بینی برای داده تست و خروجی\n",
    "</font>\n",
    "</h2>\n",
    "\n",
    "<p dir=rtl style=\"direction: rtl; text-align: justify; line-height:200%; font-family:vazir; font-size:medium\">\n",
    "<font face=\"vazir\" size=3>\n",
    "    پس از مهندسی ویژگی و مدل‌سازی، الگوریتمی دارید که می‌تواند شما را از متغیرهای مستقل به متغیر هدف برساند.\n",
    "    <br>\n",
    "    از این مدل برای پیش‌بینی نمونه‌های موجود در مجموعه‌ی آزمون استفاده کنید و نتایج را در یک دیتافریم تک‌ستونه با نام <code>submission</code> و در قالب زیر آماده کنید. توجه داشته باشید که ترتیب پیش‌بینی شما اهمیت دارد یعنی به عنوان مثال پیش‌بینی مدل برای نمونه‌ی آزمون <code>m</code>ام را باید در ردیف <code>m</code>ام این دیتافریم ذخیره کنید.\n",
    "</font>\n",
    "</p>"
   ]
  },
  {
   "cell_type": "markdown",
   "id": "c2f6d82d",
   "metadata": {},
   "source": [
    "<center>\n",
    "<div dir=rtl style=\"direction: rtl;line-height:200%;font-family:vazir;font-size:medium\">\n",
    "<font face=\"vazir\" size=3>\n",
    "    \n",
    "|ستون|توضیحات|\n",
    "|:------:|:---:|\n",
    "|income|پیش‌بینی مدل شما (مقدار <code dir=ltr>>50K</code> یا <code dir=ltr><=50K</code>)|\n",
    "    \n",
    "</font>\n",
    "</div>\n",
    "</center>"
   ]
  },
  {
   "cell_type": "code",
   "execution_count": 20,
   "id": "3d4a0844",
   "metadata": {},
   "outputs": [
    {
     "name": "stdout",
     "output_type": "stream",
     "text": [
      "drf prediction progress: |"
     ]
    },
    {
     "name": "stdout",
     "output_type": "stream",
     "text": [
      "███████████████████████████████████████████████████████| (done) 100%\n"
     ]
    },
    {
     "name": "stderr",
     "output_type": "stream",
     "text": [
      "/home/javad/My Folders/Courses/Quera_ML/qenv/lib/python3.11/site-packages/h2o/job.py:83: UserWarning: Test/Validation dataset column 'native.country' has levels not trained on: [\"Holand-Netherlands\"]\n",
      "  warnings.warn(w)\n"
     ]
    },
    {
     "data": {
      "text/html": [
       "<div>\n",
       "<style scoped>\n",
       "    .dataframe tbody tr th:only-of-type {\n",
       "        vertical-align: middle;\n",
       "    }\n",
       "\n",
       "    .dataframe tbody tr th {\n",
       "        vertical-align: top;\n",
       "    }\n",
       "\n",
       "    .dataframe thead th {\n",
       "        text-align: right;\n",
       "    }\n",
       "</style>\n",
       "<table border=\"1\" class=\"dataframe\">\n",
       "  <thead>\n",
       "    <tr style=\"text-align: right;\">\n",
       "      <th></th>\n",
       "      <th>income</th>\n",
       "    </tr>\n",
       "  </thead>\n",
       "  <tbody>\n",
       "    <tr>\n",
       "      <th>0</th>\n",
       "      <td>&lt;=50K</td>\n",
       "    </tr>\n",
       "    <tr>\n",
       "      <th>1</th>\n",
       "      <td>&lt;=50K</td>\n",
       "    </tr>\n",
       "    <tr>\n",
       "      <th>2</th>\n",
       "      <td>&lt;=50K</td>\n",
       "    </tr>\n",
       "    <tr>\n",
       "      <th>3</th>\n",
       "      <td>&lt;=50K</td>\n",
       "    </tr>\n",
       "    <tr>\n",
       "      <th>4</th>\n",
       "      <td>&lt;=50K</td>\n",
       "    </tr>\n",
       "    <tr>\n",
       "      <th>...</th>\n",
       "      <td>...</td>\n",
       "    </tr>\n",
       "    <tr>\n",
       "      <th>7159</th>\n",
       "      <td>&lt;=50K</td>\n",
       "    </tr>\n",
       "    <tr>\n",
       "      <th>7160</th>\n",
       "      <td>&lt;=50K</td>\n",
       "    </tr>\n",
       "    <tr>\n",
       "      <th>7161</th>\n",
       "      <td>&lt;=50K</td>\n",
       "    </tr>\n",
       "    <tr>\n",
       "      <th>7162</th>\n",
       "      <td>&lt;=50K</td>\n",
       "    </tr>\n",
       "    <tr>\n",
       "      <th>7163</th>\n",
       "      <td>&lt;=50K</td>\n",
       "    </tr>\n",
       "  </tbody>\n",
       "</table>\n",
       "<p>7164 rows × 1 columns</p>\n",
       "</div>"
      ],
      "text/plain": [
       "     income\n",
       "0     <=50K\n",
       "1     <=50K\n",
       "2     <=50K\n",
       "3     <=50K\n",
       "4     <=50K\n",
       "...     ...\n",
       "7159  <=50K\n",
       "7160  <=50K\n",
       "7161  <=50K\n",
       "7162  <=50K\n",
       "7163  <=50K\n",
       "\n",
       "[7164 rows x 1 columns]"
      ]
     },
     "execution_count": 20,
     "metadata": {},
     "output_type": "execute_result"
    }
   ],
   "source": [
    "test_pred = model.predict(hf_test).as_data_frame()\n",
    "\n",
    "submission = pd.DataFrame({'income': test_pred['predict']})\n",
    "\n",
    "submission"
   ]
  },
  {
   "cell_type": "markdown",
   "id": "0a77e7cd",
   "metadata": {},
   "source": [
    "<h2 align=right style=\"line-height:200%;font-family:vazir;color:#0099cc\">\n",
    "<font face=\"vazir\" color=\"#0099cc\">\n",
    "<b>سلول جواب‌ساز</b>\n",
    "</font>\n",
    "</h2>\n",
    "\n",
    "<p dir=rtl style=\"direction: rtl; text-align: justify; line-height:200%; font-family:vazir; font-size:medium\">\n",
    "<font face=\"vazir\" size=3>\n",
    "    برای ساخته‌شدن فایل <code>result.zip</code> سلول زیر را اجرا کنید. توجه داشته باشید که پیش از اجرای سلول زیر تغییرات اعمال شده در نت‌بوک را ذخیره کرده باشید (<code>ctrl+s</code>) تا در صورت نیاز به پشتیبانی امکان بررسی کد شما وجود داشته باشد.\n",
    "</font>\n",
    "</p>"
   ]
  },
  {
   "cell_type": "code",
   "execution_count": 21,
   "id": "2c3bcd76",
   "metadata": {},
   "outputs": [
    {
     "name": "stdout",
     "output_type": "stream",
     "text": [
      "File Paths:\n",
      "['income.ipynb', 'submission.csv']\n"
     ]
    }
   ],
   "source": [
    "import zipfile\n",
    "import joblib\n",
    "\n",
    "def compress(file_names):\n",
    "    print(\"File Paths:\")\n",
    "    print(file_names)\n",
    "    compression = zipfile.ZIP_DEFLATED\n",
    "    with zipfile.ZipFile(\"result.zip\", mode=\"w\") as zf:\n",
    "        for file_name in file_names:\n",
    "            zf.write('./' + file_name, file_name, compress_type=compression)\n",
    "\n",
    "submission.to_csv('submission.csv', index=False)\n",
    "file_names = ['income.ipynb', 'submission.csv']\n",
    "compress(file_names)"
   ]
  },
  {
   "cell_type": "markdown",
   "id": "9d324736",
   "metadata": {},
   "source": [
    "<h4 align=right style=\"line-height:200%;font-family:vazir;color:#0099cc\">\n",
    "<font face=\"vazir\" color=\"#0099cc\">\n",
    "<b>راهنمایی</b>\n",
    "</font>\n",
    "</h4>\n",
    "\n",
    "<p dir=rtl style=\"direction: rtl; text-align: justify; line-height:200%; font-family:vazir; font-size:medium\">\n",
    "<font face=\"vazir\" size=3>\n",
    "    ۱. توازن مجموعه‌داده را بررسی و مدیریت کنید.\n",
    "    <br>\n",
    "    ۲. برای مقادیر گم‌شده چه در هنگام آموزش و چه هنگام آزمون چاره‌ای بی‌اندیشید.\n",
    "    <br>\n",
    "    ۳. مقادیر گم‌شده ممکن است با عبارت دیگری به جز مقدار <code>NaN</code> نشان داده شده باشد.\n",
    "    <br>\n",
    "    ۴. ویژگی‌های دسته‌ای را به‌خوبی مدیریت کنید. توجه داشته باشید که ممکن است در هنگام آزمون با دسته‌ای مواجه شوید که در نمونه‌های آموزشی رخ نداده باشد.\n",
    "    <br>\n",
    "    ۵. برای تعیین حداکثر عمق درخت می‌توانید یکبار درخت را به شکل آزاد و کامل بسازید، سپس عمق آن را مشاهده کنید. سپس می‌توانید مقادیر کمتر از آن را برای حداکثر عمق آزمایش و تحلیل کنید.\n",
    "    <br>\n",
    "    ۶. برای ارزیابی مدل خود و کشف مدل بهتر می‌توانید بخشی از مجموعه‌داده را به عنوان مجموعه‌ی اعتبارسنجی جدا کنید یا اینکه از تکنیک‌های اعتبارسنجی متقاطع (cross-validation) و مانند آن کمک بگیرید.\n",
    "</font>\n",
    "</p>"
   ]
  }
 ],
 "metadata": {
  "kernelspec": {
   "display_name": "Python 3.9.7 ('base')",
   "language": "python",
   "name": "python3"
  },
  "language_info": {
   "codemirror_mode": {
    "name": "ipython",
    "version": 3
   },
   "file_extension": ".py",
   "mimetype": "text/x-python",
   "name": "python",
   "nbconvert_exporter": "python",
   "pygments_lexer": "ipython3",
   "version": "3.11.4"
  },
  "vscode": {
   "interpreter": {
    "hash": "ad2bdc8ecc057115af97d19610ffacc2b4e99fae6737bb82f5d7fb13d2f2c186"
   }
  }
 },
 "nbformat": 4,
 "nbformat_minor": 5
}
